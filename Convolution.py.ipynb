{
 "cells": [
  {
   "cell_type": "markdown",
   "metadata": {},
   "source": [
    "# Kernel Convolution\n",
    "*Convolution is process in which  a ‘kernel’  used to extract certain ‘features’ from an input image. Like Edges, line, color filtering , blur, sharping etc, are nothing but a convolution with different kernel.*\n",
    "\n",
    "<img src=\"image/image4.png\" style ='width:800px;height:800'/>"
   ]
  },
  {
   "cell_type": "markdown",
   "metadata": {},
   "source": [
    "#### import Required module"
   ]
  },
  {
   "cell_type": "code",
   "execution_count": 8,
   "metadata": {},
   "outputs": [],
   "source": [
    "from skimage.exposure import rescale_intensity\n",
    "import numpy as np\n",
    "import cv2"
   ]
  },
  {
   "cell_type": "markdown",
   "metadata": {},
   "source": [
    "# Without pading\n",
    "* losing border side pixels\n",
    "* losing Width and Height of Output Image\n",
    "\n",
    "<img src=\"image/image1.png\" style ='width:400px;height:400'/> <img src=\"image/image3.png\" style ='width:400px;height:400'/>\n",
    "\n",
    "# padding \n",
    "\n",
    "<img src=\"image/image5.png\" style ='width:400px;height:400'/> <img src=\"image/image6.png\" style ='width:400px;height:400'/>\n",
    "\n"
   ]
  },
  {
   "cell_type": "code",
   "execution_count": 9,
   "metadata": {},
   "outputs": [],
   "source": [
    "def convolution(image, kernel):\n",
    "\t(iH, iW) = image.shape[:2]\n",
    "\t(kH, kW) = kernel.shape[:2]\n",
    "    \n",
    "\t# size (i.e., width and height) are not reduced\n",
    "\tpad = (kW - 1) // 2\n",
    "\timage = cv2.copyMakeBorder(image, pad, pad, pad, pad,\n",
    "\t\tcv2.BORDER_REPLICATE)\n",
    "\toutput = np.zeros((iH, iW), dtype=\"float32\")\n",
    "\n",
    "\t# loop over the input image, \"sliding\" the kernel across\n",
    "\t# each (x, y)-coordinate from left-to-right and top to\n",
    "\t# bottom\n",
    "# \tprint(type(pad))\n",
    "\tfor y in np.arange(pad, iH + pad):\n",
    "\t\tfor x in np.arange(pad, iW + pad):\n",
    "\n",
    "\t\t\troi = image[y - pad:y + pad + 1, x - pad:x + pad + 1]\n",
    "# \t\t\tprint(roi)\n",
    "\n",
    "\n",
    "\t\t\tk = (roi * kernel).sum()\n",
    "            \n",
    "# \t\t\tprint(f\"{roi} * {kernel} = {k}\")\n",
    "\n",
    "\t\t\toutput[y - pad, x - pad] = k\n",
    "\n",
    "\t# rescale the output image to be in the range [0, 255]\n",
    "\toutput = rescale_intensity(output, in_range=(0, 255))\n",
    "\toutput = (output * 255).astype(\"uint8\")\n",
    "\n",
    "\t# return the output image\n",
    "\treturn output"
   ]
  },
  {
   "cell_type": "code",
   "execution_count": 10,
   "metadata": {},
   "outputs": [],
   "source": [
    "# construct the Sobel y-axis kernel\n",
    "sobelY = np.array((\n",
    "\t[-1, -2, -1],\n",
    "\t[0, 0, 0],\n",
    "\t[1, 2, 1]), dtype=\"int\")\n",
    "\n",
    "\n",
    "# load the input image and convert it to grayscale\n",
    "image = cv2.imread('rose.png')\n",
    "gray = cv2.cvtColor(image, cv2.COLOR_BGR2GRAY)\n",
    "cv2.imshow('orgnial', image)\n",
    "\n",
    "conv_output = convolution(gray, sobelY)\n",
    "\n",
    "cv2.imshow('gray', gray)\n",
    "cv2.imshow('output', conv_output)\n",
    "cv2.waitKey(0)\n",
    "cv2.destroyAllWindows()\n"
   ]
  }
 ],
 "metadata": {
  "kernelspec": {
   "display_name": "Python 3.7.8 64-bit",
   "language": "python",
   "name": "python37864bitbc705287fdc14db48d53b58af5f19e49"
  },
  "language_info": {
   "codemirror_mode": {
    "name": "ipython",
    "version": 3
   },
   "file_extension": ".py",
   "mimetype": "text/x-python",
   "name": "python",
   "nbconvert_exporter": "python",
   "pygments_lexer": "ipython3",
   "version": "3.7.8"
  }
 },
 "nbformat": 4,
 "nbformat_minor": 4
}
